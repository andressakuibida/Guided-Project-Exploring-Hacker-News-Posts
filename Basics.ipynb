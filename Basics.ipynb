{
 "cells": [
  {
   "cell_type": "markdown",
   "metadata": {
    "collapsed": true
   },
   "source": [
    "# My first Project\n"
   ]
  },
  {
   "cell_type": "code",
   "execution_count": 2,
   "metadata": {
    "collapsed": false
   },
   "outputs": [],
   "source": [
    "import csv\n",
    "\n",
    "hn = []\n",
    "with open('hacker_news.csv', newline='') as csvfile:\n",
    "    spamreader = csv.reader(csvfile, delimiter=',', quotechar='|')\n",
    "    for row in spamreader:\n",
    "        hn.append(row)\n",
    "      "
   ]
  },
  {
   "cell_type": "code",
   "execution_count": 3,
   "metadata": {
    "collapsed": false
   },
   "outputs": [
    {
     "name": "stdout",
     "output_type": "stream",
     "text": [
      "['id', 'title', 'url', 'num_points', 'num_comments', 'author', 'created_at'] [['12224879', 'Interactive Dynamic Video', 'http://www.interactivedynamicvideo.com/', '386', '52', 'ne0phyte', '8/4/2016 11:52'], ['10975351', 'How to Use Open Source and Shut the Fuck Up at the Same Time', 'http://hueniverse.com/2016/01/26/how-to-use-open-source-and-shut-the-fuck-up-at-the-same-time/', '39', '10', 'josep2', '1/26/2016 19:30'], ['11964716', \"Florida DJs May Face Felony for April Fools' Water Joke\", 'http://www.thewire.com/entertainment/2013/04/florida-djs-april-fools-water-joke/63798/', '2', '1', 'vezycash', '6/23/2016 22:20'], ['11919867', 'Technology ventures: From Idea to Enterprise', 'https://www.amazon.com/Technology-Ventures-Enterprise-Thomas-Byers/dp/0073523429', '3', '1', 'hswarna', '6/17/2016 0:01'], ['10301696', 'Note by Note: The Making of Steinway L1037 (2007)', 'http://www.nytimes.com/2007/11/07/movies/07stein.html?_r=0', '8', '2', 'walterbell', '9/30/2015 4:12']]\n"
     ]
    }
   ],
   "source": [
    "headers = hn[0]\n",
    "hnn = hn[1:]\n",
    "print(headers, hnn[:5])"
   ]
  },
  {
   "cell_type": "code",
   "execution_count": 4,
   "metadata": {
    "collapsed": false
   },
   "outputs": [
    {
     "name": "stdout",
     "output_type": "stream",
     "text": [
      "Ask: 1581  Show: 967  Other: 17552\n"
     ]
    }
   ],
   "source": [
    "ask_posts = []\n",
    "show_posts = []\n",
    "other_posts = []\n",
    "\n",
    "for row in hnn:\n",
    "    title = row[1]\n",
    "    #print(row)\n",
    "    if title.lower().startswith(\"ask hn\"):\n",
    "        ask_posts.append(row)\n",
    "        \n",
    "    elif title.lower().startswith(\"show hn\"):\n",
    "        show_posts.append(row)\n",
    "    \n",
    "    else:\n",
    "        other_posts.append(row)\n",
    "        \n",
    "print(\"Ask:\", len(ask_posts), \n",
    "      \" Show:\",len(show_posts),\n",
    "      \" Other:\",len(other_posts))"
   ]
  },
  {
   "cell_type": "code",
   "execution_count": 5,
   "metadata": {
    "collapsed": false
   },
   "outputs": [
    {
     "name": "stdout",
     "output_type": "stream",
     "text": [
      "Avg Ask comments:  14.371283997469956\n"
     ]
    }
   ],
   "source": [
    "total_ask_comments = 0\n",
    "\n",
    "for row in ask_posts:\n",
    "    total_ask_comments += int(row[4])\n",
    "\n",
    "avg_ask_comments = total_ask_comments/len(ask_posts)\n",
    "print(\"Avg Ask comments: \", avg_ask_comments)\n",
    " "
   ]
  },
  {
   "cell_type": "code",
   "execution_count": 6,
   "metadata": {
    "collapsed": false
   },
   "outputs": [
    {
     "name": "stdout",
     "output_type": "stream",
     "text": [
      "Avg Show comments:  10.415718717683557\n"
     ]
    }
   ],
   "source": [
    "total_show_comments = 0\n",
    "\n",
    "for row in show_posts:\n",
    "    total_show_comments += int(row[4])\n",
    "\n",
    "avg_show_comments = total_show_comments/len(show_posts)\n",
    "print(\"Avg Show comments: \", avg_show_comments)\n",
    " "
   ]
  },
  {
   "cell_type": "code",
   "execution_count": 15,
   "metadata": {
    "collapsed": false
   },
   "outputs": [
    {
     "name": "stdout",
     "output_type": "stream",
     "text": [
      "Min show: 1 \n",
      "Min ask:  1\n"
     ]
    }
   ],
   "source": [
    "total_show = [int(row[4]) for row in show_posts]\n",
    "total_ask = [int(row[4]) for row in ask_posts]\n",
    "min_show = min(total_show)\n",
    "min_ask = min(total_ask)\n",
    "print(\"Min show:\", min_show,\n",
    "      \"\\nMin ask: \", min_ask)"
   ]
  },
  {
   "cell_type": "markdown",
   "metadata": {},
   "source": [
    "# Show posts has fewer comments compared to Ask posts.\n",
    "- \"Ask\" posts tend to try to answer a doubt about something and because of that, they tend to have more comments, as proven above.\n",
    "- \"Show\" posts can be anything and they can too have a lot of comments when they're a relevant post. "
   ]
  },
  {
   "cell_type": "code",
   "execution_count": 16,
   "metadata": {
    "collapsed": false
   },
   "outputs": [],
   "source": [
    "import datetime as dt\n",
    "\n",
    "result_list = []\n",
    "temp_list = []\n",
    "\n",
    "for row in ask_posts:\n",
    "    created_at = row[6]    \n",
    "    date = dt.datetime.strptime(created_at, \"%m/%d/%Y %H:%M\")\n",
    "    hour = dt.date.strftime(date,\"%H\")\n",
    "\n",
    "    n = int(row[4])\n",
    "    temp_list = [created_at , n]\n",
    "    result_list.append(temp_list)    "
   ]
  },
  {
   "cell_type": "code",
   "execution_count": 17,
   "metadata": {
    "collapsed": false
   },
   "outputs": [
    {
     "name": "stdout",
     "output_type": "stream",
     "text": [
      "Counts by hour:  {'11': 54, '03': 51, '12': 64, '18': 98, '04': 39, '10': 56, '15': 107, '01': 52, '23': 64, '20': 75, '06': 37, '17': 89, '08': 45, '19': 106, '09': 43, '14': 97, '21': 98, '00': 55, '16': 99, '07': 35, '02': 56, '05': 41, '22': 66, '13': 78} \n",
      "\n",
      "Comments by hour:  {'11': 83, '03': 52, '12': 67, '18': 297, '04': 41, '10': 57, '15': 108, '01': 56, '23': 66, '20': 84, '06': 59, '17': 94, '08': 47, '19': 108, '09': 45, '14': 115, '21': 106, '00': 70, '16': 101, '07': 36, '02': 62, '05': 43, '22': 67, '13': 91}\n"
     ]
    }
   ],
   "source": [
    "counts_by_hour ={}\n",
    "comments_by_hour = {}\n",
    "\n",
    "for row in result_list:\n",
    "    \n",
    "    created_at = row[0]\n",
    "    date = dt.datetime.strptime(created_at, \"%m/%d/%Y %H:%M\")\n",
    "    hour = dt.date.strftime(date,\"%H\")\n",
    "    \n",
    "    counts_by_hour[hour] = counts_by_hour.get(hour, 1) + 1\n",
    "    comments_by_hour[hour] = counts_by_hour.get(hour, row[1]) + row[1]\n",
    "           \n",
    "print(\"Counts by hour: \", counts_by_hour, \"\\n\\nComments by hour: \",\n",
    "      comments_by_hour)"
   ]
  },
  {
   "cell_type": "code",
   "execution_count": 20,
   "metadata": {
    "collapsed": false
   },
   "outputs": [
    {
     "data": {
      "text/plain": [
       "[['11', 1.537037037037037],\n",
       " ['03', 1.0196078431372548],\n",
       " ['12', 1.046875],\n",
       " ['18', 3.0306122448979593],\n",
       " ['04', 1.0512820512820513],\n",
       " ['10', 1.0178571428571428],\n",
       " ['15', 1.0093457943925233],\n",
       " ['01', 1.0769230769230769],\n",
       " ['23', 1.03125],\n",
       " ['20', 1.12],\n",
       " ['06', 1.5945945945945945],\n",
       " ['17', 1.0561797752808988],\n",
       " ['08', 1.0444444444444445],\n",
       " ['19', 1.0188679245283019],\n",
       " ['09', 1.0465116279069768],\n",
       " ['14', 1.1855670103092784],\n",
       " ['21', 1.0816326530612246],\n",
       " ['00', 1.2727272727272727],\n",
       " ['16', 1.02020202020202],\n",
       " ['07', 1.0285714285714285],\n",
       " ['02', 1.1071428571428572],\n",
       " ['05', 1.048780487804878],\n",
       " ['22', 1.0151515151515151],\n",
       " ['13', 1.1666666666666667]]"
      ]
     },
     "execution_count": 20,
     "metadata": {},
     "output_type": "execute_result"
    }
   ],
   "source": [
    "avg_by_hour = []\n",
    "\n",
    "for hour in counts_by_hour:\n",
    "    avg_by_hour.append([hour, \n",
    "                        comments_by_hour[hour]/counts_by_hour[hour]])\n",
    "avg_by_hour    "
   ]
  },
  {
   "cell_type": "code",
   "execution_count": 22,
   "metadata": {
    "collapsed": false
   },
   "outputs": [
    {
     "name": "stdout",
     "output_type": "stream",
     "text": [
      "[[1.537037037037037, '11'], [1.0196078431372548, '03'], [1.046875, '12'], [3.0306122448979593, '18'], [1.0512820512820513, '04'], [1.0178571428571428, '10'], [1.0093457943925233, '15'], [1.0769230769230769, '01'], [1.03125, '23'], [1.12, '20'], [1.5945945945945945, '06'], [1.0561797752808988, '17'], [1.0444444444444445, '08'], [1.0188679245283019, '19'], [1.0465116279069768, '09'], [1.1855670103092784, '14'], [1.0816326530612246, '21'], [1.2727272727272727, '00'], [1.02020202020202, '16'], [1.0285714285714285, '07'], [1.1071428571428572, '02'], [1.048780487804878, '05'], [1.0151515151515151, '22'], [1.1666666666666667, '13']]\n"
     ]
    }
   ],
   "source": [
    "swap_avg_by_hour = []\n",
    "for row in avg_by_hour:\n",
    "    swap_avg_by_hour.append([row[1],row[0]])\n",
    "    \n",
    "print(swap_avg_by_hour)    "
   ]
  },
  {
   "cell_type": "code",
   "execution_count": 25,
   "metadata": {
    "collapsed": false
   },
   "outputs": [],
   "source": [
    "sorted_swap = sorted(swap_avg_by_hour, reverse=True)\n"
   ]
  },
  {
   "cell_type": "code",
   "execution_count": 48,
   "metadata": {
    "collapsed": false
   },
   "outputs": [
    {
     "name": "stdout",
     "output_type": "stream",
     "text": [
      "  \"Top 5 Hours for Ask Posts Comments \"\n",
      "\n",
      "At 17:00 there are 3.03 comments per post.\n",
      "At 05:00 there are 1.59 comments per post.\n",
      "At 10:00 there are 1.54 comments per post.\n",
      "At 23:00 there are 1.27 comments per post.\n",
      "At 13:00 there are 1.19 comments per post.\n"
     ]
    }
   ],
   "source": [
    "print('  \"Top 5 Hours for Ask Posts Comments \"\\n')\n",
    "\n",
    "for avg, hour in sorted_swap[:5]:\n",
    "    sp_zone = dt.timedelta(hours = 1)\n",
    "    hour = dt.datetime.strptime(hour, \"%H\")-sp_zone\n",
    "    hour = hour.strftime(\"%H:%M\")\n",
    "    \n",
    "    print(\"At {} there are {:.2f} comments per post.\"\n",
    "          .format(hour, avg))"
   ]
  }
 ],
 "metadata": {
  "kernelspec": {
   "display_name": "Python 3",
   "language": "python",
   "name": "python3"
  },
  "language_info": {
   "codemirror_mode": {
    "name": "ipython",
    "version": 3
   },
   "file_extension": ".py",
   "mimetype": "text/x-python",
   "name": "python",
   "nbconvert_exporter": "python",
   "pygments_lexer": "ipython3",
   "version": "3.4.3"
  }
 },
 "nbformat": 4,
 "nbformat_minor": 2
}
